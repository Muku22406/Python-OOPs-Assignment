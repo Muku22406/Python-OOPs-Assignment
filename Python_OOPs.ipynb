{
  "nbformat": 4,
  "nbformat_minor": 0,
  "metadata": {
    "colab": {
      "provenance": []
    },
    "kernelspec": {
      "name": "python3",
      "display_name": "Python 3"
    },
    "language_info": {
      "name": "python"
    }
  },
  "cells": [
    {
      "cell_type": "markdown",
      "source": [
        "***Python OOPs Questions***\n"
      ],
      "metadata": {
        "id": "tmGKvK2fGEo9"
      }
    },
    {
      "cell_type": "markdown",
      "source": [
        "1. What is Object-Oriented Programming (OOP)?\n",
        "\n",
        " - Object-Oriented Programming (OOP) is a programming paradigm based on the concept of objects, which encapsulate data and behavior. OOP is designed to improve code reusability, scalability, and maintainability by organizing code into self-contained units."
      ],
      "metadata": {
        "id": "f1_sXFgxGP0r"
      }
    },
    {
      "cell_type": "markdown",
      "source": [
        "2. What is a class in OOP?\n",
        "\n",
        " - A class in Object-Oriented Programming (OOP) is a blueprint or template for creating objects. It defines the attributes (data) and methods (behavior) that the objects will have."
      ],
      "metadata": {
        "id": "SZnKlBXJGnGz"
      }
    },
    {
      "cell_type": "markdown",
      "source": [
        "3. What is an object in OOP?\n",
        "\n",
        " - An object in Object-Oriented Programming (OOP) is an instance of a class. It represents a real-world entity with attributes (data) and behaviors (methods) defined by the class.\n"
      ],
      "metadata": {
        "id": "SM1i7TlnG3oL"
      }
    },
    {
      "cell_type": "markdown",
      "source": [
        "4.  What is the difference between abstraction and encapsulation?\n",
        "- **Abstraction** and **Encapsulation** are both fundamental concepts of Object-Oriented Programming (OOP), but they serve different purposes. **Abstraction** focuses on hiding implementation details and exposing only the necessary functionalities, making complex systems easier to understand and use. It is achieved through abstract classes and interfaces, where the user interacts with high-level methods without worrying about how they are implemented. For example, when driving a car, you use the steering wheel to turn, but you don’t need to know how the internal mechanics work. **Encapsulation**, on the other hand, is about data protection and restricting direct access to the internal state of an object. It is implemented using access modifiers (like private, protected, and public) to control how data is accessed and modified. This ensures that sensitive data is not altered unintentionally, and it is only accessible through well-defined methods (getters and setters). For instance, in a car’s engine system, you cannot directly manipulate the internal components but can control them using an ignition key or accelerator. In summary, **abstraction** simplifies complexity by focusing on **what** an object does, while **encapsulation** enhances security by controlling **how** data is accessed and modified.\n"
      ],
      "metadata": {
        "id": "pLeqJzBuHKor"
      }
    },
    {
      "cell_type": "markdown",
      "source": [
        "5. What are dunder methods in Python?\n",
        " - Dunder methods (short for \"double underscore\" methods) are special methods in Python that start and end with double underscores (__). They are also known as magic methods because they enable built-in behaviors like object initialization, operator overloading, and string representation. These methods allow customization of Python classes and make objects behave more like built-in types."
      ],
      "metadata": {
        "id": "rmlYIfjrHuXD"
      }
    },
    {
      "cell_type": "markdown",
      "source": [
        "6. Explain the concept of inheritance in OOP?\n",
        "\n",
        " - Inheritance in Object-Oriented Programming (OOP)\n",
        "Inheritance is an OOP concept that allows a class (child class) to acquire the properties and behaviors of another class (parent class). This promotes code reusability and establishes a hierarchical relationship between classes.\n",
        "\n",
        "Key Features of Inheritance:\n",
        "\n",
        "- Code Reusability – The child class can use methods and attributes of the parent class without redefining them.\n",
        "\n",
        "- Extensibility – The child class can extend or modify the functionality of the parent class.\n",
        "\n",
        "- Hierarchy – Helps in structuring classes in a logical manner.\n",
        "\n",
        "Types of Inheritance\n",
        "\n",
        "Single Inheritance – One class inherits from another.\n",
        "\n",
        "Multiple Inheritance – A class inherits from multiple parent classes.\n",
        "\n",
        "Multilevel Inheritance – A class inherits from a child class, forming a chain.\n",
        "\n",
        "Hierarchical Inheritance – Multiple child classes inherit from the same parent.\n",
        "\n",
        "Hybrid Inheritance – A combination of different inheritance types.\n",
        "\n"
      ],
      "metadata": {
        "id": "bJ07BAjnH4XU"
      }
    },
    {
      "cell_type": "markdown",
      "source": [
        "7. What is polymorphism in OOP?\n",
        "\n",
        " - Polymorphism in Object-Oriented Programming (OOP)\n",
        "Polymorphism is an OOP concept that allows objects of different classes to be treated as objects of a common parent class. It enables a single interface to be used for different types, making the code more flexible and scalable. The term polymorphism means \"many forms\", referring to the ability of a function, method, or operator to behave differently based on the object it is acting upon.\n",
        "\n"
      ],
      "metadata": {
        "id": "f9_xPPxnITM0"
      }
    },
    {
      "cell_type": "markdown",
      "source": [
        "8. How is encapsulation achieved in Python?\n",
        " - Encapsulation is the OOP principle of restricting direct access to an object's data and only allowing modification through methods. This ensures data security and prevents unintended modifications.\n",
        "\n",
        "Encapsulation in Python\n",
        "\n",
        "Python achieves encapsulation using access specifiers:\n",
        "\n",
        "- Public (self.variable) – Accessible from anywhere.\n",
        "\n",
        "- Protected (self._variable) – Meant to be used within the class or subclasses.\n",
        "\n",
        "- Private (self.__variable) – Cannot be accessed directly outside the class.\n",
        "\n"
      ],
      "metadata": {
        "id": "yEtHJohSIlLs"
      }
    },
    {
      "cell_type": "markdown",
      "source": [
        "9. What is a constructor in Python?\n",
        " - A constructor in Python is a special method used to initialize an object's attributes when it is created. The constructor method in Python is __init__(), which is automatically called when a new instance of a class is created.\n",
        "\n",
        "Key Features of a Constructor:\n",
        "\n",
        "✔ Automatically executes when an object is instantiated.\n",
        "\n",
        "✔ Used to initialize object attributes.\n",
        "\n",
        "✔ Helps in setting up the initial state of an object."
      ],
      "metadata": {
        "id": "diUi9JYXI9dM"
      }
    },
    {
      "cell_type": "markdown",
      "source": [
        "10. What are class and static methods in Python?\n",
        "\n",
        " Python provides two special types of methods that belong to a class rather than an instance:\n",
        "\n",
        "- Class Methods (@classmethod) – Works with the class itself instead of an instance.\n",
        "\n",
        "- Static Methods (@staticmethod) – Does not depend on the class or instance and behaves like a regular function inside a class.\n",
        "\n",
        " ***Class Methods (@classmethod)***\n",
        "\n",
        "A class method operates on the class rather than on an instance. It is defined using the @classmethod decorator and takes cls as its first parameter, which represents the class itself.\n",
        "\n",
        "  ***Static Methods (@staticmethod)***\n",
        "\n",
        " A static method does not modify class attributes or instance attributes. It is used when a method does not need access to self (instance) or cls (class). Defined using the @staticmethod decorator."
      ],
      "metadata": {
        "id": "sX1Nb1wGJQRE"
      }
    },
    {
      "cell_type": "markdown",
      "source": [
        "11. What is method overloading in Python?\n",
        "\n",
        " - Method overloading is the ability to define multiple methods with the same name but different arguments within a class. It allows flexibility in calling methods based on different parameters. However, Python does not support traditional method overloading like Java or C++ because Python functions can take a variable number of arguments using default values and *args/**kwargs."
      ],
      "metadata": {
        "id": "p0o4JclHJ_-t"
      }
    },
    {
      "cell_type": "markdown",
      "source": [
        "12. What is method overriding in OOP?\n",
        "\n",
        " - Method overriding is a feature in Object-Oriented Programming (OOP) that allows a child class to provide a specific implementation of a method that is already defined in its parent class. The overridden method in the child class must have the same name, parameters, and return type as the method in the parent class."
      ],
      "metadata": {
        "id": "GXbkla_2KNQE"
      }
    },
    {
      "cell_type": "markdown",
      "source": [
        "13. What is a property decorator in Python?\n",
        "\n",
        " - The @property decorator in Python is used to define getter, setter, and deleter methods in a class, allowing controlled access to private attributes. It helps in encapsulation, ensuring that attributes are accessed and modified through methods rather than directly."
      ],
      "metadata": {
        "id": "stRws26gKbQU"
      }
    },
    {
      "cell_type": "markdown",
      "source": [
        "14. Why is polymorphism important in OOP?\n",
        "\n",
        " - Polymorphism is one of the four fundamental principles of Object-Oriented Programming (OOP), along with Encapsulation, Inheritance, and Abstraction. It allows objects of different classes to be treated as objects of a common base class, enabling flexibility, scalability, and maintainability in software design.\n",
        "\n"
      ],
      "metadata": {
        "id": "umo0K9-QKm4s"
      }
    },
    {
      "cell_type": "markdown",
      "source": [
        "15. What is an abstract class in Python?\n",
        "\n",
        " - An abstract class in Python is a class that cannot be instantiated and is used as a blueprint for other classes. It contains one or more abstract methods, which must be implemented by any subclass. Abstract classes are defined using the ABC (Abstract Base Class) module from the abc package."
      ],
      "metadata": {
        "id": "tmSTlaVqKxes"
      }
    },
    {
      "cell_type": "markdown",
      "source": [
        "16. What are the advantages of OOP?\n",
        "\n",
        " ### **Advantages of Object-Oriented Programming (OOP)**  \n",
        "\n",
        "✔ **Code Reusability** – Inheritance allows new classes to reuse existing code, reducing duplication.  \n",
        "✔ **Encapsulation** – Protects sensitive data by restricting direct access, ensuring data integrity.  \n",
        "✔ **Polymorphism** – Enables different classes to use the same method name with unique implementations, improving flexibility.  \n",
        "✔ **Modularity** – Breaks complex programs into smaller, manageable components, making debugging easier.  \n",
        "✔ **Scalability** – Easily extendable without modifying existing code, making applications future-proof.  \n",
        "✔ **Real-World Modeling** – Maps real-world entities (e.g., users, cars, transactions) into code, enhancing readability.  \n",
        "✔ **Maintainability** – Structured code makes it easier to update and modify in the long run.  \n",
        "✔ **Team Collaboration** – Different developers can work on separate classes without conflicts.  \n",
        "✔ **Framework Support** – Used in popular frameworks like Django (Python), Spring (Java), and .NET for efficient development.  \n",
        "✔ **Security** – Protects data with private and protected attributes, preventing unauthorized modifications.  \n"
      ],
      "metadata": {
        "id": "jBFO1K5XK9Hs"
      }
    },
    {
      "cell_type": "markdown",
      "source": [
        "17. What is the difference between a class variable and an instance variable?\n",
        "\n",
        " Difference Between Class Variable and Instance Variable\n",
        "\n",
        "✔ Definition:\n",
        "\n",
        "- Class Variable: Shared across all instances of a class.\n",
        "\n",
        "- Instance Variable: Unique to each instance (object) of a class.\n",
        "\n",
        "✔ Declaration:\n",
        "\n",
        "- Class Variable: Defined inside the class but outside any method.\n",
        "\n",
        "- Instance Variable: Defined inside the __init__ method using self.\n",
        "\n",
        "✔ Access:\n",
        "\n",
        "- Class Variable: Accessed using ClassName.variable or self.variable.\n",
        "\n",
        "- Instance Variable: Accessed only using self.variable.\n",
        "\n",
        "✔ Modification:\n",
        "\n",
        "- Class Variable: Changing it affects all instances (unless overridden).\n",
        "\n",
        "- Instance Variable: Changing it affects only the specific object.\n",
        "\n",
        "✔ Scope:\n",
        "\n",
        "- Class Variable: Shared by all objects of the class.\n",
        "\n",
        "- Instance Variable: Exists only for the particular instance that created it."
      ],
      "metadata": {
        "id": "Go7MyF0_NCrF"
      }
    },
    {
      "cell_type": "markdown",
      "source": [
        "18. What is multiple inheritance in Python?\n",
        " - Multiple inheritance is a feature in Python where a class can inherit attributes and methods from more than one parent class. This allows a child class to combine functionalities from multiple base classes, making it more flexible and reusable.\n",
        "\n"
      ],
      "metadata": {
        "id": "QnFlMsazNpnt"
      }
    },
    {
      "cell_type": "markdown",
      "source": [
        "19.  Explain the purpose of ‘’__str__’ and ‘__repr__’ ‘ methods in Python?\n",
        "\n",
        " Both __str__ and __repr__ are dunder (double underscore) methods in Python that control how an object is represented as a string. They are used to convert an object into a readable string format, but they serve different purposes.\n",
        "\n",
        "- __str__ Method: User-Friendly Representation\n",
        "✔ Returns a human-readable (informal) string representation of an object.\n",
        "✔ Used when you call str(object) or use print(object).\n",
        "✔ Designed for end-users.\n",
        "\n",
        "- __repr__ Method: Developer-Friendly Representation\n",
        "✔ Returns a detailed, unambiguous (formal) string representation of an object.\n",
        "✔ Used when you call repr(object), or in debugging and logging.\n",
        "✔ Should return a valid Python expression that can recreate the object."
      ],
      "metadata": {
        "id": "Bf0k_OPJN1LN"
      }
    },
    {
      "cell_type": "markdown",
      "source": [
        "20. What is the significance of the ‘super()’ function in Python?\n",
        " - The `super()` function in Python is primarily used in inheritance to call methods from a parent class, ensuring efficient code reuse and maintainability. It allows child classes to access parent methods without explicitly naming the parent class, making the code more flexible and easier to modify. One of the most common use cases of `super()` is in the `__init__` method, where it initializes attributes from the parent class, avoiding code duplication. Additionally, `super()` plays a crucial role in multiple inheritance by following Python’s Method Resolution Order (MRO), ensuring that the correct method is called in complex inheritance structures. This is especially useful when dealing with diamond inheritance patterns, as it prevents redundant calls to the same method. By using `super()`, developers can write cleaner, more maintainable object-oriented code that adapts well to changes in parent classes."
      ],
      "metadata": {
        "id": "yANZBe2gOfNd"
      }
    },
    {
      "cell_type": "markdown",
      "source": [
        "21. What is the significance of the __del__ method in Python?\n",
        "- The `__del__` method in Python is a **destructor** that is automatically called when an object is about to be destroyed. It is used to **release resources**, such as closing files, network connections, or freeing memory before an object is deleted. The significance of `__del__` lies in its ability to ensure proper cleanup of resources, preventing memory leaks in applications that deal with external resources. However, it should be used with caution because Python’s **garbage collector** automatically manages memory, and relying too much on `__del__` can lead to issues like delayed object deletion or circular reference problems. In general, explicit resource management using **context managers (`with` statement)** is preferred over `__del__` for better control and predictability."
      ],
      "metadata": {
        "id": "pLJu3w5KO0yN"
      }
    },
    {
      "cell_type": "markdown",
      "source": [
        "22. What is the difference between @staticmethod and @classmethod in Python?\n",
        "\n",
        " Both @staticmethod and @classmethod are decorators in Python that define methods inside a class, but they serve different purposes and have key differences.\n",
        "\n",
        "-  @staticmethod (Independent Method)\n",
        "\n",
        "✔ Belongs to the class but does not use self or cls\n",
        "\n",
        "✔ Does not access or modify class attributes\n",
        "\n",
        "✔ Used for utility/helper functions that logically belong to the class\n",
        "\n",
        "-  @classmethod (Class-Level Method)\n",
        "\n",
        "✔ Takes cls as the first parameter\n",
        "\n",
        "✔ Can access and modify class variables\n",
        "\n",
        "✔ Useful for creating alternative constructors"
      ],
      "metadata": {
        "id": "ZuOlkPknPEP-"
      }
    },
    {
      "cell_type": "markdown",
      "source": [
        "23. How does polymorphism work in Python with inheritance?\n",
        "\n",
        " ***Polymorphism in Python with Inheritance***\n",
        "\n",
        "\n",
        "\n",
        "Polymorphism in Python allows different classes to have methods with the same name, but with different implementations. When used with inheritance, it enables child classes to override or extend the behavior of parent class methods while maintaining a common interface. This enhances code flexibility and reusability by allowing the same method call to produce different results depending on the object.\n",
        "\n",
        "\n",
        "Example 1: Method Overriding (Runtime Polymorphism)\n",
        "When a child class provides a different implementation of a method already defined in the parent class, this is called method overriding."
      ],
      "metadata": {
        "id": "z0cg5TomPdEV"
      }
    },
    {
      "cell_type": "code",
      "source": [
        "class Animal:\n",
        "    def make_sound(self):\n",
        "        return \"Some generic sound\"\n",
        "\n",
        "class Dog(Animal):\n",
        "    def make_sound(self):\n",
        "        return \"Bark\"\n",
        "\n",
        "class Cat(Animal):\n",
        "    def make_sound(self):\n",
        "        return \"Meow\"\n",
        "\n",
        "# Polymorphism in action\n",
        "animals = [Dog(), Cat(), Animal()]\n",
        "for animal in animals:\n",
        "    print(animal.make_sound())\n",
        "\n",
        "# Output:\n",
        "# Bark\n",
        "# Meow\n",
        "# Some generic sound\n"
      ],
      "metadata": {
        "colab": {
          "base_uri": "https://localhost:8080/"
        },
        "id": "PfCL3OtEQFbu",
        "outputId": "5b8f9332-2287-4798-b477-8821a4f18ae4"
      },
      "execution_count": 1,
      "outputs": [
        {
          "output_type": "stream",
          "name": "stdout",
          "text": [
            "Bark\n",
            "Meow\n",
            "Some generic sound\n"
          ]
        }
      ]
    },
    {
      "cell_type": "markdown",
      "source": [
        "Example 2: Method Overloading (Pythonic Way)\n",
        "Python does not support traditional method overloading (same method with different parameters), but we can achieve it using default arguments or *args."
      ],
      "metadata": {
        "id": "MCnGAfxtQWqt"
      }
    },
    {
      "cell_type": "code",
      "source": [
        "class Calculator:\n",
        "    def add(self, a, b, c=0):  # Default argument for overloading effect\n",
        "        return a + b + c\n",
        "\n",
        "calc = Calculator()\n",
        "print(calc.add(2, 3))     # Output: 5\n",
        "print(calc.add(2, 3, 4))  # Output: 9\n"
      ],
      "metadata": {
        "colab": {
          "base_uri": "https://localhost:8080/"
        },
        "id": "I4WgxJdoQbJu",
        "outputId": "a2127c0c-e543-4ae5-c097-15f550357e7b"
      },
      "execution_count": 2,
      "outputs": [
        {
          "output_type": "stream",
          "name": "stdout",
          "text": [
            "5\n",
            "9\n"
          ]
        }
      ]
    },
    {
      "cell_type": "markdown",
      "source": [
        "Example 3: Polymorphism with Function and Inheritance\n",
        "Python allows functions to work with different object types if they share common methods."
      ],
      "metadata": {
        "id": "dPtfvvRoQpSl"
      }
    },
    {
      "cell_type": "code",
      "source": [
        "class Bird:\n",
        "    def fly(self):\n",
        "        return \"Flying in the sky\"\n",
        "\n",
        "class Airplane:\n",
        "    def fly(self):\n",
        "        return \"Flying with engines\"\n",
        "\n",
        "class Rocket:\n",
        "    def fly(self):\n",
        "        return \"Flying to space\"\n",
        "\n",
        "# Polymorphic function\n",
        "def lift_off(entity):\n",
        "    print(entity.fly())\n",
        "\n",
        "lift_off(Bird())      # Output: Flying in the sky\n",
        "lift_off(Airplane())  # Output: Flying with engines\n",
        "lift_off(Rocket())    # Output: Flying to space\n"
      ],
      "metadata": {
        "colab": {
          "base_uri": "https://localhost:8080/"
        },
        "id": "q-TayPIIQuEe",
        "outputId": "a8c76fe5-1d55-4d38-c355-b8d3bafa064a"
      },
      "execution_count": 3,
      "outputs": [
        {
          "output_type": "stream",
          "name": "stdout",
          "text": [
            "Flying in the sky\n",
            "Flying with engines\n",
            "Flying to space\n"
          ]
        }
      ]
    },
    {
      "cell_type": "markdown",
      "source": [
        "24. What is method chaining in Python OOP?\n",
        " - Method chaining is a technique in object-oriented programming (OOP) where multiple methods are called on the same object in a single statement, improving readability and reducing temporary variables. This is achieved by having each method return self (the object itself), allowing another method to be called directly."
      ],
      "metadata": {
        "id": "Vx7D8bZBQz3G"
      }
    },
    {
      "cell_type": "markdown",
      "source": [
        "25. What is the purpose of the __call__ method in Python?\n",
        " - The __call__ method in Python allows an instance of a class to be called like a function. When an object has __call__ defined, calling the object as if it were a function triggers this method. This is useful for creating objects that behave like functions, implementing custom callable classes, and designing function wrappers.\n",
        "\n",
        "Example 1: Making an Object Callable"
      ],
      "metadata": {
        "id": "rgxpuSK9Q7Rf"
      }
    },
    {
      "cell_type": "code",
      "source": [
        "class Multiplier:\n",
        "    def __init__(self, factor):\n",
        "        self.factor = factor\n",
        "\n",
        "    def __call__(self, value):\n",
        "        return value * self.factor\n",
        "\n",
        "times_three = Multiplier(3)  # Creating an object\n",
        "print(times_three(5))  # Output: 15 (Object used like a function)\n"
      ],
      "metadata": {
        "colab": {
          "base_uri": "https://localhost:8080/"
        },
        "id": "xi6d8jsVRIz2",
        "outputId": "734d9ed8-b6a2-439c-cd76-e8ca0c0b894f"
      },
      "execution_count": 4,
      "outputs": [
        {
          "output_type": "stream",
          "name": "stdout",
          "text": [
            "15\n"
          ]
        }
      ]
    },
    {
      "cell_type": "markdown",
      "source": [
        "Example 2: Function Wrapper (Decorator Alternative)"
      ],
      "metadata": {
        "id": "WPdhfzraRLZO"
      }
    },
    {
      "cell_type": "code",
      "source": [
        "class Logger:\n",
        "    def __call__(self, message):\n",
        "        print(f\"[LOG]: {message}\")\n",
        "\n",
        "log = Logger()\n",
        "log(\"Application started\")  # Output: [LOG]: Application started\n"
      ],
      "metadata": {
        "colab": {
          "base_uri": "https://localhost:8080/"
        },
        "id": "n2KXkY3aRPZV",
        "outputId": "83590487-4cb5-48dc-ec72-7022077e34dc"
      },
      "execution_count": 5,
      "outputs": [
        {
          "output_type": "stream",
          "name": "stdout",
          "text": [
            "[LOG]: Application started\n"
          ]
        }
      ]
    },
    {
      "cell_type": "markdown",
      "source": [
        "Example 3: Using __call__ in a Class-Based Decorator"
      ],
      "metadata": {
        "id": "He7LbC1RRRv-"
      }
    },
    {
      "cell_type": "code",
      "source": [
        "class Repeat:\n",
        "    def __init__(self, times):\n",
        "        self.times = times\n",
        "\n",
        "    def __call__(self, func):\n",
        "        def wrapper(*args, **kwargs):\n",
        "            for _ in range(self.times):\n",
        "                func(*args, **kwargs)\n",
        "        return wrapper\n",
        "\n",
        "@Repeat(3)  # Acts like a function decorator\n",
        "def greet():\n",
        "    print(\"Hello!\")\n",
        "\n",
        "greet()\n",
        "# Output:\n",
        "# Hello!\n",
        "# Hello!\n",
        "# Hello!\n"
      ],
      "metadata": {
        "colab": {
          "base_uri": "https://localhost:8080/"
        },
        "id": "rGZeVySsRU__",
        "outputId": "c746b3d9-6b98-4be7-fa4c-cee04de83c7b"
      },
      "execution_count": 6,
      "outputs": [
        {
          "output_type": "stream",
          "name": "stdout",
          "text": [
            "Hello!\n",
            "Hello!\n",
            "Hello!\n"
          ]
        }
      ]
    },
    {
      "cell_type": "markdown",
      "source": [
        "***Practical Questions***\n"
      ],
      "metadata": {
        "id": "X_YXw-3ORgP1"
      }
    },
    {
      "cell_type": "markdown",
      "source": [
        "1. Create a parent class Animal with a method speak() that prints a generic message. Create a child class Dog\n",
        "that overrides the speak() method to print \"Bark!\"."
      ],
      "metadata": {
        "id": "TbPq6UZzRmln"
      }
    },
    {
      "cell_type": "code",
      "source": [
        "# Parent class\n",
        "class Animal:\n",
        "    def speak(self):\n",
        "        print(\"Animal makes a sound\")\n",
        "\n",
        "# Child class overriding speak()\n",
        "class Dog(Animal):\n",
        "    def speak(self):\n",
        "        print(\"Bark!\")\n",
        "\n",
        "# Creating objects\n",
        "animal = Animal()\n",
        "dog = Dog()\n",
        "\n",
        "# Calling speak method\n",
        "animal.speak()  # Output: Animal makes a sound\n",
        "dog.speak()     # Output: Bark!\n"
      ],
      "metadata": {
        "colab": {
          "base_uri": "https://localhost:8080/"
        },
        "id": "w7cuzsA0RyPv",
        "outputId": "cdfe49b5-484c-4053-8266-a40697ed2892"
      },
      "execution_count": 7,
      "outputs": [
        {
          "output_type": "stream",
          "name": "stdout",
          "text": [
            "Animal makes a sound\n",
            "Bark!\n"
          ]
        }
      ]
    },
    {
      "cell_type": "markdown",
      "source": [
        "2. Write a program to create an abstract class Shape with a method area(). Derive classes Circle and Rectangle\n",
        "from it and implement the area() method in both."
      ],
      "metadata": {
        "id": "DD1DLiAkR2Yv"
      }
    },
    {
      "cell_type": "code",
      "source": [
        "from abc import ABC, abstractmethod\n",
        "import math\n",
        "\n",
        "# Abstract class\n",
        "class Shape(ABC):\n",
        "    @abstractmethod\n",
        "    def area(self):\n",
        "        pass  # Must be implemented by subclasses\n",
        "\n",
        "# Derived class for Circle\n",
        "class Circle(Shape):\n",
        "    def __init__(self, radius):\n",
        "        self.radius = radius\n",
        "\n",
        "    def area(self):\n",
        "        return math.pi * self.radius ** 2  # πr² formula\n",
        "\n",
        "# Derived class for Rectangle\n",
        "class Rectangle(Shape):\n",
        "    def __init__(self, width, height):\n",
        "        self.width = width\n",
        "        self.height = height\n",
        "\n",
        "    def area(self):\n",
        "        return self.width * self.height  # w × h formula\n",
        "\n",
        "# Creating objects\n",
        "circle = Circle(5)\n",
        "rectangle = Rectangle(4, 6)\n",
        "\n",
        "# Displaying area\n",
        "print(f\"Circle Area: {circle.area():.2f}\")       # Output: Circle Area: 78.54\n",
        "print(f\"Rectangle Area: {rectangle.area()}\")    # Output: Rectangle Area: 24\n"
      ],
      "metadata": {
        "colab": {
          "base_uri": "https://localhost:8080/"
        },
        "id": "YYtft8YtR51v",
        "outputId": "6b618c63-88f0-48f1-9942-92592697cb87"
      },
      "execution_count": 8,
      "outputs": [
        {
          "output_type": "stream",
          "name": "stdout",
          "text": [
            "Circle Area: 78.54\n",
            "Rectangle Area: 24\n"
          ]
        }
      ]
    },
    {
      "cell_type": "markdown",
      "source": [
        "3.  Implement a multi-level inheritance scenario where a class Vehicle has an attribute type. Derive a class Car\n",
        "and further derive a class ElectricCar that adds a battery attribute."
      ],
      "metadata": {
        "id": "-_Cam-YxSB2-"
      }
    },
    {
      "cell_type": "code",
      "source": [
        "# Base class\n",
        "class Vehicle:\n",
        "    def __init__(self, type):\n",
        "        self.type = type\n",
        "\n",
        "    def show_type(self):\n",
        "        print(f\"Vehicle Type: {self.type}\")\n",
        "\n",
        "# Derived class\n",
        "class Car(Vehicle):\n",
        "    def __init__(self, brand, type=\"Car\"):\n",
        "        super().__init__(type)  # Calling parent constructor\n",
        "        self.brand = brand\n",
        "\n",
        "    def show_brand(self):\n",
        "        print(f\"Car Brand: {self.brand}\")\n",
        "\n",
        "# Further derived class\n",
        "class ElectricCar(Car):\n",
        "    def __init__(self, brand, battery_capacity):\n",
        "        super().__init__(brand)  # Calling Car's constructor\n",
        "        self.battery_capacity = battery_capacity\n",
        "\n",
        "    def show_battery(self):\n",
        "        print(f\"Battery Capacity: {self.battery_capacity} kWh\")\n",
        "\n",
        "# Creating objects\n",
        "ev = ElectricCar(\"Tesla\", 75)\n",
        "\n",
        "# Calling methods\n",
        "ev.show_type()       # Output: Vehicle Type: Car\n",
        "ev.show_brand()      # Output: Car Brand: Tesla\n",
        "ev.show_battery()    # Output: Battery Capacity: 75 kWh\n"
      ],
      "metadata": {
        "colab": {
          "base_uri": "https://localhost:8080/"
        },
        "id": "5mL23vMSSFdX",
        "outputId": "9ecd1960-5442-430c-c43c-46424748b2d8"
      },
      "execution_count": 9,
      "outputs": [
        {
          "output_type": "stream",
          "name": "stdout",
          "text": [
            "Vehicle Type: Car\n",
            "Car Brand: Tesla\n",
            "Battery Capacity: 75 kWh\n"
          ]
        }
      ]
    },
    {
      "cell_type": "markdown",
      "source": [
        "4. Demonstrate polymorphism by creating a base class Bird with a method fly(). Create two derived classes\n",
        "Sparrow and Penguin that override the fly() method.\n"
      ],
      "metadata": {
        "id": "dh13OE4wSTrW"
      }
    },
    {
      "cell_type": "code",
      "source": [
        "# Base class\n",
        "class Bird:\n",
        "    def fly(self):\n",
        "        print(\"Some birds can fly!\")\n",
        "\n",
        "# Derived class 1: Sparrow (can fly)\n",
        "class Sparrow(Bird):\n",
        "    def fly(self):\n",
        "        print(\"Sparrow flies high in the sky!\")\n",
        "\n",
        "# Derived class 2: Penguin (cannot fly)\n",
        "class Penguin(Bird):\n",
        "    def fly(self):\n",
        "        print(\"Penguins cannot fly, but they swim!\")\n",
        "\n",
        "# Function demonstrating polymorphism\n",
        "def bird_fly_demo(bird):\n",
        "    bird.fly()  # Calls the overridden method based on the object type\n",
        "\n",
        "# Creating objects\n",
        "sparrow = Sparrow()\n",
        "penguin = Penguin()\n",
        "\n",
        "# Calling the function with different objects\n",
        "bird_fly_demo(sparrow)  # Output: Sparrow flies high in the sky!\n",
        "bird_fly_demo(penguin)  # Output: Penguins cannot fly, but they swim!\n"
      ],
      "metadata": {
        "colab": {
          "base_uri": "https://localhost:8080/"
        },
        "id": "UWE60M1CSY8A",
        "outputId": "13648cd2-c341-4065-fb12-7d24f45e4ba4"
      },
      "execution_count": 10,
      "outputs": [
        {
          "output_type": "stream",
          "name": "stdout",
          "text": [
            "Sparrow flies high in the sky!\n",
            "Penguins cannot fly, but they swim!\n"
          ]
        }
      ]
    },
    {
      "cell_type": "markdown",
      "source": [
        "5. Write a program to demonstrate encapsulation by creating a class BankAccount with private attributes\n",
        "balance and methods to deposit, withdraw, and check balance."
      ],
      "metadata": {
        "id": "N74WQ0WKSfhm"
      }
    },
    {
      "cell_type": "code",
      "source": [
        "class BankAccount:\n",
        "    def __init__(self, account_holder, initial_balance=0):\n",
        "        self.account_holder = account_holder\n",
        "        self.__balance = initial_balance  # Private attribute\n",
        "\n",
        "    def deposit(self, amount):\n",
        "        if amount > 0:\n",
        "            self.__balance += amount\n",
        "            print(f\"Deposited ${amount}. New Balance: ${self.__balance}\")\n",
        "        else:\n",
        "            print(\"Deposit amount must be positive.\")\n",
        "\n",
        "    def withdraw(self, amount):\n",
        "        if 0 < amount <= self.__balance:\n",
        "            self.__balance -= amount\n",
        "            print(f\"Withdrawn ${amount}. Remaining Balance: ${self.__balance}\")\n",
        "        else:\n",
        "            print(\"Insufficient balance or invalid amount.\")\n",
        "\n",
        "    def check_balance(self):\n",
        "        print(f\"Account Balance: ${self.__balance}\")\n",
        "\n",
        "# Creating an object of BankAccount\n",
        "account = BankAccount(\"John Doe\", 1000)\n",
        "\n",
        "# Using methods to access private balance\n",
        "account.deposit(500)       # Deposited $500. New Balance: $1500\n",
        "account.withdraw(300)      # Withdrawn $300. Remaining Balance: $1200\n",
        "account.check_balance()    # Account Balance: $1200\n",
        "\n",
        "# Trying to access the private attribute directly (will not work)\n",
        "# print(account.__balance)  # AttributeError: 'BankAccount' object has no attribute '__balance'\n"
      ],
      "metadata": {
        "colab": {
          "base_uri": "https://localhost:8080/"
        },
        "id": "k5IegboGSqUf",
        "outputId": "17761e5f-2362-49df-b8c7-82db18dc650e"
      },
      "execution_count": 11,
      "outputs": [
        {
          "output_type": "stream",
          "name": "stdout",
          "text": [
            "Deposited $500. New Balance: $1500\n",
            "Withdrawn $300. Remaining Balance: $1200\n",
            "Account Balance: $1200\n"
          ]
        }
      ]
    },
    {
      "cell_type": "markdown",
      "source": [
        "6. Demonstrate runtime polymorphism using a method play() in a base class Instrument. Derive classes Guitar\n",
        "and Piano that implement their own version of play()."
      ],
      "metadata": {
        "id": "suGyKWpPS0y3"
      }
    },
    {
      "cell_type": "code",
      "source": [
        "# Base class\n",
        "class Instrument:\n",
        "    def play(self):\n",
        "        print(\"Playing some instrument...\")\n",
        "\n",
        "# Derived class 1: Guitar\n",
        "class Guitar(Instrument):\n",
        "    def play(self):\n",
        "        print(\"Strumming the Guitar 🎸!\")\n",
        "\n",
        "# Derived class 2: Piano\n",
        "class Piano(Instrument):\n",
        "    def play(self):\n",
        "        print(\"Playing the Piano 🎹!\")\n",
        "\n",
        "# Function demonstrating polymorphism\n",
        "def play_instrument(instrument):\n",
        "    instrument.play()  # Calls the overridden method based on the object type\n",
        "\n",
        "# Creating objects\n",
        "guitar = Guitar()\n",
        "piano = Piano()\n",
        "\n",
        "# Calling the function with different objects\n",
        "play_instrument(guitar)  # Output: Strumming the Guitar 🎸!\n",
        "play_instrument(piano)   # Output: Playing the Piano 🎹!\n"
      ],
      "metadata": {
        "colab": {
          "base_uri": "https://localhost:8080/"
        },
        "id": "vhRZRW3WS4JP",
        "outputId": "8fc27e8c-fe71-4d39-c286-97cc69031ff5"
      },
      "execution_count": 12,
      "outputs": [
        {
          "output_type": "stream",
          "name": "stdout",
          "text": [
            "Strumming the Guitar 🎸!\n",
            "Playing the Piano 🎹!\n"
          ]
        }
      ]
    },
    {
      "cell_type": "markdown",
      "source": [
        "7.  Create a class MathOperations with a class method add_numbers() to add two numbers and a static\n",
        "method subtract_numbers() to subtract two numbers."
      ],
      "metadata": {
        "id": "-HCFnOIYS_Ln"
      }
    },
    {
      "cell_type": "code",
      "source": [
        "class MathOperations:\n",
        "    # Class method to add numbers\n",
        "    @classmethod\n",
        "    def add_numbers(cls, a, b):\n",
        "        return a + b\n",
        "\n",
        "    # Static method to subtract numbers\n",
        "    @staticmethod\n",
        "    def subtract_numbers(a, b):\n",
        "        return a - b\n",
        "\n",
        "# Using class method\n",
        "sum_result = MathOperations.add_numbers(10, 5)\n",
        "print(f\"Sum: {sum_result}\")  # Output: Sum: 15\n",
        "\n",
        "# Using static method\n",
        "difference = MathOperations.subtract_numbers(10, 5)\n",
        "print(f\"Difference: {difference}\")  # Output: Difference: 5\n"
      ],
      "metadata": {
        "colab": {
          "base_uri": "https://localhost:8080/"
        },
        "id": "guO3h1PeTQAf",
        "outputId": "f6d9f735-8445-4247-dd50-df7448be812f"
      },
      "execution_count": 13,
      "outputs": [
        {
          "output_type": "stream",
          "name": "stdout",
          "text": [
            "Sum: 15\n",
            "Difference: 5\n"
          ]
        }
      ]
    },
    {
      "cell_type": "markdown",
      "source": [
        "8. Implement a class Person with a class method to count the total number of persons created."
      ],
      "metadata": {
        "id": "2bcNzpdUTSFv"
      }
    },
    {
      "cell_type": "code",
      "source": [
        "class Person:\n",
        "    count = 0  # Class variable to track number of persons\n",
        "\n",
        "    def __init__(self, name):\n",
        "        self.name = name\n",
        "        Person.count += 1  # Increment count when a new person is created\n",
        "\n",
        "    @classmethod\n",
        "    def total_persons(cls):\n",
        "        return f\"Total persons created: {cls.count}\"\n",
        "\n",
        "# Creating objects\n",
        "p1 = Person(\"Alice\")\n",
        "p2 = Person(\"Bob\")\n",
        "p3 = Person(\"Charlie\")\n",
        "\n",
        "# Calling class method\n",
        "print(Person.total_persons())  # Output: Total persons created: 3\n"
      ],
      "metadata": {
        "colab": {
          "base_uri": "https://localhost:8080/"
        },
        "id": "Uczxjk40TXE3",
        "outputId": "88befa9a-123f-4955-f4c9-d88179e2addc"
      },
      "execution_count": 14,
      "outputs": [
        {
          "output_type": "stream",
          "name": "stdout",
          "text": [
            "Total persons created: 3\n"
          ]
        }
      ]
    },
    {
      "cell_type": "markdown",
      "source": [
        "9. Write a class Fraction with attributes numerator and denominator. Override the str method to display the\n",
        "fraction as \"numerator/denominator\"."
      ],
      "metadata": {
        "id": "HUFRfHigTe-2"
      }
    },
    {
      "cell_type": "code",
      "source": [
        "class Fraction:\n",
        "    def __init__(self, numerator, denominator):\n",
        "        if denominator == 0:\n",
        "            raise ValueError(\"Denominator cannot be zero.\")\n",
        "        self.numerator = numerator\n",
        "        self.denominator = denominator\n",
        "\n",
        "    def __str__(self):\n",
        "        return f\"{self.numerator}/{self.denominator}\"\n",
        "\n",
        "# Creating fraction objects\n",
        "frac1 = Fraction(3, 4)\n",
        "frac2 = Fraction(5, 8)\n",
        "\n",
        "# Displaying fractions using overridden __str__ method\n",
        "print(frac1)  # Output: 3/4\n",
        "print(frac2)  # Output: 5/8\n"
      ],
      "metadata": {
        "colab": {
          "base_uri": "https://localhost:8080/"
        },
        "id": "hWxvSNrATijQ",
        "outputId": "4924e509-f3af-4624-ab5e-91385d945ee9"
      },
      "execution_count": 15,
      "outputs": [
        {
          "output_type": "stream",
          "name": "stdout",
          "text": [
            "3/4\n",
            "5/8\n"
          ]
        }
      ]
    },
    {
      "cell_type": "markdown",
      "source": [
        "10.  Demonstrate operator overloading by creating a class Vector and overriding the add method to add two\n",
        "vectors."
      ],
      "metadata": {
        "id": "xkNx1aNzTnkv"
      }
    },
    {
      "cell_type": "code",
      "source": [
        "class Vector:\n",
        "    def __init__(self, x, y):\n",
        "        self.x = x\n",
        "        self.y = y\n",
        "\n",
        "    def __add__(self, other):\n",
        "        if not isinstance(other, Vector):\n",
        "            raise TypeError(\"Operand must be an instance of Vector\")\n",
        "        return Vector(self.x + other.x, self.y + other.y)\n",
        "\n",
        "    def __str__(self):\n",
        "        return f\"({self.x}, {self.y})\"\n",
        "\n",
        "# Creating vector objects\n",
        "v1 = Vector(2, 3)\n",
        "v2 = Vector(4, 5)\n",
        "\n",
        "# Adding two vectors using overloaded + operator\n",
        "v3 = v1 + v2\n",
        "\n",
        "# Displaying results\n",
        "print(f\"Vector 1: {v1}\")  # Output: (2, 3)\n",
        "print(f\"Vector 2: {v2}\")  # Output: (4, 5)\n",
        "print(f\"Sum of Vectors: {v3}\")  # Output: (6, 8)\n"
      ],
      "metadata": {
        "colab": {
          "base_uri": "https://localhost:8080/"
        },
        "id": "1X3Sgd14TtmP",
        "outputId": "3cdca341-3b29-47ff-ae76-0aea868ee2b7"
      },
      "execution_count": 16,
      "outputs": [
        {
          "output_type": "stream",
          "name": "stdout",
          "text": [
            "Vector 1: (2, 3)\n",
            "Vector 2: (4, 5)\n",
            "Sum of Vectors: (6, 8)\n"
          ]
        }
      ]
    },
    {
      "cell_type": "markdown",
      "source": [
        "11.  Create a class Person with attributes name and age. Add a method greet() that prints \"Hello, my name is\n",
        "{name} and I am {age} years old.\""
      ],
      "metadata": {
        "id": "48hsJ7TKT5cQ"
      }
    },
    {
      "cell_type": "code",
      "source": [
        "class Person:\n",
        "    def __init__(self, name, age):\n",
        "        self.name = name\n",
        "        self.age = age\n",
        "\n",
        "    def greet(self):\n",
        "        print(f\"Hello, my name is {self.name} and I am {self.age} years old.\")\n",
        "\n",
        "# Creating person objects\n",
        "person1 = Person(\"Alice\", 25)\n",
        "person2 = Person(\"Bob\", 30)\n",
        "\n",
        "# Calling greet method\n",
        "person1.greet()  # Output: Hello, my name is Alice and I am 25 years old.\n",
        "person2.greet()  # Output: Hello, my name is Bob and I am 30 years old.\n"
      ],
      "metadata": {
        "colab": {
          "base_uri": "https://localhost:8080/"
        },
        "id": "_JH6U74zT-Qx",
        "outputId": "87799cee-6ae4-43b9-c447-06890bd843be"
      },
      "execution_count": 17,
      "outputs": [
        {
          "output_type": "stream",
          "name": "stdout",
          "text": [
            "Hello, my name is Alice and I am 25 years old.\n",
            "Hello, my name is Bob and I am 30 years old.\n"
          ]
        }
      ]
    },
    {
      "cell_type": "markdown",
      "source": [
        "12.  Implement a class Student with attributes name and grades. Create a method average_grade() to compute\n",
        "the average of the grades."
      ],
      "metadata": {
        "id": "y6Sv0LPIUEpB"
      }
    },
    {
      "cell_type": "code",
      "source": [
        "class Student:\n",
        "    def __init__(self, name, grades):\n",
        "        self.name = name\n",
        "        self.grades = grades  # List of grades\n",
        "\n",
        "    def average_grade(self):\n",
        "        if not self.grades:\n",
        "            return 0  # Return 0 if no grades are present\n",
        "        return sum(self.grades) / len(self.grades)\n",
        "\n",
        "    def display(self):\n",
        "        print(f\"Student: {self.name}\")\n",
        "        print(f\"Average Grade: {self.average_grade():.2f}\")\n",
        "\n",
        "# Creating student objects\n",
        "student1 = Student(\"Alice\", [85, 90, 78, 92])\n",
        "student2 = Student(\"Bob\", [75, 80, 82])\n",
        "\n",
        "# Displaying student details and average grades\n",
        "student1.display()  # Output: Average Grade: 86.25\n",
        "student2.display()  # Output: Average Grade: 79.00\n"
      ],
      "metadata": {
        "colab": {
          "base_uri": "https://localhost:8080/"
        },
        "id": "SN334vcfUICB",
        "outputId": "bceacf0f-0613-4d08-c56c-f216fbcfb638"
      },
      "execution_count": 18,
      "outputs": [
        {
          "output_type": "stream",
          "name": "stdout",
          "text": [
            "Student: Alice\n",
            "Average Grade: 86.25\n",
            "Student: Bob\n",
            "Average Grade: 79.00\n"
          ]
        }
      ]
    },
    {
      "cell_type": "markdown",
      "source": [
        "13.  Create a class Rectangle with methods set_dimensions() to set the dimensions and area() to calculate the\n",
        "area."
      ],
      "metadata": {
        "id": "qQaihtCsUOgv"
      }
    },
    {
      "cell_type": "code",
      "source": [
        "class Rectangle:\n",
        "    def __init__(self, length=0, width=0):\n",
        "        self.length = length\n",
        "        self.width = width\n",
        "\n",
        "    def set_dimensions(self, length, width):\n",
        "        self.length = length\n",
        "        self.width = width\n",
        "\n",
        "    def area(self):\n",
        "        return self.length * self.width\n",
        "\n",
        "    def display(self):\n",
        "        print(f\"Rectangle Dimensions: {self.length} x {self.width}\")\n",
        "        print(f\"Area: {self.area()}\")\n",
        "\n",
        "# Creating a rectangle object\n",
        "rect = Rectangle()\n",
        "\n",
        "# Setting dimensions\n",
        "rect.set_dimensions(5, 10)\n",
        "\n",
        "# Displaying dimensions and area\n",
        "rect.display()\n",
        "\n",
        "# Output:\n",
        "# Rectangle Dimensions: 5 x 10\n",
        "# Area: 50\n"
      ],
      "metadata": {
        "colab": {
          "base_uri": "https://localhost:8080/"
        },
        "id": "IOzXBwvYURae",
        "outputId": "11e3cdcc-ff9a-46fc-fb85-c3e0d87326d7"
      },
      "execution_count": 19,
      "outputs": [
        {
          "output_type": "stream",
          "name": "stdout",
          "text": [
            "Rectangle Dimensions: 5 x 10\n",
            "Area: 50\n"
          ]
        }
      ]
    },
    {
      "cell_type": "markdown",
      "source": [
        "14. . Create a class Employee with a method calculate_salary() that computes the salary based on hours worked\n",
        "and hourly rate. Create a derived class Manager that adds a bonus to the salary."
      ],
      "metadata": {
        "id": "Vg_vMii7Uabo"
      }
    },
    {
      "cell_type": "code",
      "source": [
        "class Employee:\n",
        "    def __init__(self, name, hours_worked, hourly_rate):\n",
        "        self.name = name\n",
        "        self.hours_worked = hours_worked\n",
        "        self.hourly_rate = hourly_rate\n",
        "\n",
        "    def calculate_salary(self):\n",
        "        return self.hours_worked * self.hourly_rate\n",
        "\n",
        "    def display_salary(self):\n",
        "        print(f\"{self.name}'s Salary: ${self.calculate_salary():.2f}\")\n",
        "\n",
        "# Derived class: Manager (adds bonus)\n",
        "class Manager(Employee):\n",
        "    def __init__(self, name, hours_worked, hourly_rate, bonus):\n",
        "        super().__init__(name, hours_worked, hourly_rate)\n",
        "        self.bonus = bonus\n",
        "\n",
        "    def calculate_salary(self):\n",
        "        return super().calculate_salary() + self.bonus  # Adding bonus\n",
        "\n",
        "# Creating Employee and Manager objects\n",
        "emp = Employee(\"Alice\", 40, 20)   # 40 hours * $20 per hour\n",
        "mgr = Manager(\"Bob\", 40, 30, 500) # 40 hours * $30 per hour + $500 bonus\n",
        "\n",
        "# Displaying salaries\n",
        "emp.display_salary()  # Output: Alice's Salary: $800.00\n",
        "mgr.display_salary()  # Output: Bob's Salary: $1700.00\n"
      ],
      "metadata": {
        "colab": {
          "base_uri": "https://localhost:8080/"
        },
        "id": "qP0PLwxMUdUh",
        "outputId": "822271b5-756a-4c33-ece3-9b5d4085707c"
      },
      "execution_count": 20,
      "outputs": [
        {
          "output_type": "stream",
          "name": "stdout",
          "text": [
            "Alice's Salary: $800.00\n",
            "Bob's Salary: $1700.00\n"
          ]
        }
      ]
    },
    {
      "cell_type": "markdown",
      "source": [
        "15.  Create a class Product with attributes name, price, and quantity. Implement a method total_price() that\n",
        "calculates the total price of the product.\n",
        "\n",
        "\n"
      ],
      "metadata": {
        "id": "ZY1Sg6JPUovQ"
      }
    },
    {
      "cell_type": "code",
      "source": [
        "class Product:\n",
        "    def __init__(self, name, price, quantity):\n",
        "        self.name = name\n",
        "        self.price = price\n",
        "        self.quantity = quantity\n",
        "\n",
        "    def total_price(self):\n",
        "        return self.price * self.quantity\n",
        "\n",
        "    def display(self):\n",
        "        print(f\"Product: {self.name}\")\n",
        "        print(f\"Price per unit: ${self.price:.2f}\")\n",
        "        print(f\"Quantity: {self.quantity}\")\n",
        "        print(f\"Total Price: ${self.total_price():.2f}\")\n",
        "\n",
        "# Creating product objects\n",
        "product1 = Product(\"Laptop\", 800, 2)\n",
        "product2 = Product(\"Phone\", 500, 3)\n",
        "\n",
        "# Displaying product details\n",
        "product1.display()\n",
        "product2.display()\n",
        "\n",
        "# Output:\n",
        "# Product: Laptop\n",
        "# Price per unit: $800.00\n",
        "# Quantity: 2\n",
        "# Total Price: $1600.00\n",
        "#\n",
        "# Product: Phone\n",
        "# Price per unit: $500.00\n",
        "# Quantity: 3\n",
        "# Total Price: $1500.00\n"
      ],
      "metadata": {
        "colab": {
          "base_uri": "https://localhost:8080/"
        },
        "id": "uftXbFuQUr9R",
        "outputId": "8610d202-c972-480d-c096-33058a9b611d"
      },
      "execution_count": 21,
      "outputs": [
        {
          "output_type": "stream",
          "name": "stdout",
          "text": [
            "Product: Laptop\n",
            "Price per unit: $800.00\n",
            "Quantity: 2\n",
            "Total Price: $1600.00\n",
            "Product: Phone\n",
            "Price per unit: $500.00\n",
            "Quantity: 3\n",
            "Total Price: $1500.00\n"
          ]
        }
      ]
    },
    {
      "cell_type": "markdown",
      "source": [
        "16. Create a class Animal with an abstract method sound(). Create two derived classes Cow and Sheep that\n",
        "implement the sound() method."
      ],
      "metadata": {
        "id": "b5HrRnXCU7Lg"
      }
    },
    {
      "cell_type": "code",
      "source": [
        "from abc import ABC, abstractmethod\n",
        "\n",
        "# Abstract class\n",
        "class Animal(ABC):\n",
        "    @abstractmethod\n",
        "    def sound(self):\n",
        "        pass  # Abstract method to be implemented by subclasses\n",
        "\n",
        "# Derived class: Cow\n",
        "class Cow(Animal):\n",
        "    def sound(self):\n",
        "        return \"Moo! 🐄\"\n",
        "\n",
        "# Derived class: Sheep\n",
        "class Sheep(Animal):\n",
        "    def sound(self):\n",
        "        return \"Baa! 🐑\"\n",
        "\n",
        "# Creating objects\n",
        "cow = Cow()\n",
        "sheep = Sheep()\n",
        "\n",
        "# Calling the sound() method\n",
        "print(f\"Cow says: {cow.sound()}\")   # Output: Cow says: Moo! 🐄\n",
        "print(f\"Sheep says: {sheep.sound()}\") # Output: Sheep says: Baa! 🐑\n"
      ],
      "metadata": {
        "colab": {
          "base_uri": "https://localhost:8080/"
        },
        "id": "WHSPGGIFU_VR",
        "outputId": "eac9783f-27a3-4a7a-875c-1a4c3fe14dec"
      },
      "execution_count": 22,
      "outputs": [
        {
          "output_type": "stream",
          "name": "stdout",
          "text": [
            "Cow says: Moo! 🐄\n",
            "Sheep says: Baa! 🐑\n"
          ]
        }
      ]
    },
    {
      "cell_type": "markdown",
      "source": [
        "17.  Create a class Book with attributes title, author, and year_published. Add a method get_book_info() that\n",
        "returns a formatted string with the book's details."
      ],
      "metadata": {
        "id": "Kq6OVOCAVLGw"
      }
    },
    {
      "cell_type": "code",
      "source": [
        "class Book:\n",
        "    def __init__(self, title, author, year_published):\n",
        "        self.title = title\n",
        "        self.author = author\n",
        "        self.year_published = year_published\n",
        "\n",
        "    def get_book_info(self):\n",
        "        return f\"'{self.title}' by {self.author}, published in {self.year_published}.\"\n",
        "\n",
        "# Creating book objects\n",
        "book1 = Book(\"To Kill a Mockingbird\", \"Harper Lee\", 1960)\n",
        "book2 = Book(\"1984\", \"George Orwell\", 1949)\n",
        "\n",
        "# Displaying book information\n",
        "print(book1.get_book_info())  # Output: 'To Kill a Mockingbird' by Harper Lee, published in 1960.\n",
        "print(book2.get_book_info())  # Output: '1984' by George Orwell, published in 1949.\n"
      ],
      "metadata": {
        "colab": {
          "base_uri": "https://localhost:8080/"
        },
        "id": "Wc0NpbCgVOuK",
        "outputId": "0f927fb1-746e-4f20-c3e1-194dc931e3f1"
      },
      "execution_count": 23,
      "outputs": [
        {
          "output_type": "stream",
          "name": "stdout",
          "text": [
            "'To Kill a Mockingbird' by Harper Lee, published in 1960.\n",
            "'1984' by George Orwell, published in 1949.\n"
          ]
        }
      ]
    },
    {
      "cell_type": "markdown",
      "source": [
        "18.  Create a class House with attributes address and price. Create a derived class Mansion that adds an\n",
        "attribute number_of_rooms."
      ],
      "metadata": {
        "id": "77xSKcZXVY1h"
      }
    },
    {
      "cell_type": "code",
      "source": [
        "class House:\n",
        "    def __init__(self, address, price):\n",
        "        self.address = address\n",
        "        self.price = price\n",
        "\n",
        "    def display_info(self):\n",
        "        return f\"Address: {self.address}, Price: ${self.price:,.2f}\"\n",
        "\n",
        "# Derived class: Mansion (adds number_of_rooms)\n",
        "class Mansion(House):\n",
        "    def __init__(self, address, price, number_of_rooms):\n",
        "        super().__init__(address, price)\n",
        "        self.number_of_rooms = number_of_rooms\n",
        "\n",
        "    def display_info(self):\n",
        "        return f\"{super().display_info()}, Number of Rooms: {self.number_of_rooms}\"\n",
        "\n",
        "# Creating objects\n",
        "house = House(\"123 Main St\", 250000)\n",
        "mansion = Mansion(\"456 Luxury Ave\", 2000000, 10)\n",
        "\n",
        "# Displaying information\n",
        "print(house.display_info())   # Output: Address: 123 Main St, Price: $250,000.00\n",
        "print(mansion.display_info()) # Output: Address: 456 Luxury Ave, Price: $2,000,000.00, Number of Rooms: 10\n"
      ],
      "metadata": {
        "colab": {
          "base_uri": "https://localhost:8080/"
        },
        "id": "4MLW_lxPVb9p",
        "outputId": "d7a8a371-3de3-4f4f-afec-780d39ccb56a"
      },
      "execution_count": 24,
      "outputs": [
        {
          "output_type": "stream",
          "name": "stdout",
          "text": [
            "Address: 123 Main St, Price: $250,000.00\n",
            "Address: 456 Luxury Ave, Price: $2,000,000.00, Number of Rooms: 10\n"
          ]
        }
      ]
    }
  ]
}